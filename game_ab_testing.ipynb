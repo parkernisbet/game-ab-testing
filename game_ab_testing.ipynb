{
 "cells": [
  {
   "cell_type": "markdown",
   "id": "f52736b4",
   "metadata": {
    "region_name": "md"
   },
   "source": [
    "# Game AB Testing"
   ]
  },
  {
   "cell_type": "markdown",
   "id": "f6684f5c",
   "metadata": {
    "region_name": "md"
   },
   "source": [
    "### Project Overview\n",
    "This dataset was sourced from [Kaggle](https://www.kaggle.com/yufengsui/mobile-games-ab-testing) \n",
    "and contains player data from a popular mobile puzzle game. More details about the game can be \n",
    "found on the developer's [website](https://tactilegames.com/cookie-cats/).\n",
    "\n",
    "In short, this project seeks to use A/B testing to explore the impact of a particular game \n",
    "mechanic on player retention / interaction. A random sampling of the overall playerbase will be \n",
    "pulled in to this case study: half serving as a test group to measure the outcome of a different \n",
    "progression system, and half as a control group to contrast with the above. The dataset will log \n",
    "\"user interaction\" as cumulative rounds played, and \"frequency of play\" as logins after \n",
    "pre-defined time intervals. Later statistical analysis of this data should yield a determination \n",
    "on the merit of this proposed game change."
   ]
  },
  {
   "cell_type": "markdown",
   "id": "4833401c",
   "metadata": {
    "region_name": "md"
   },
   "source": [
    "### Data Exploration"
   ]
  },
  {
   "cell_type": "code",
   "execution_count": 1,
   "id": "6cd7f41a",
   "metadata": {
    "execution": {
     "iopub.execute_input": "2021-07-06T05:49:46.115629Z",
     "iopub.status.busy": "2021-07-06T05:49:46.114163Z",
     "iopub.status.idle": "2021-07-06T05:49:47.390280Z",
     "shell.execute_reply": "2021-07-06T05:49:47.391119Z"
    },
    "lines_to_next_cell": 1
   },
   "outputs": [],
   "source": [
    "# global imports\n",
    "import matplotlib.pyplot as plt\n",
    "import numpy as np\n",
    "import pandas as pd\n",
    "from IPython.display import Markdown, display\n",
    "from scipy import stats"
   ]
  },
  {
   "cell_type": "code",
   "execution_count": 2,
   "id": "0120da91",
   "metadata": {
    "execution": {
     "iopub.execute_input": "2021-07-06T05:49:47.397021Z",
     "iopub.status.busy": "2021-07-06T05:49:47.395866Z",
     "iopub.status.idle": "2021-07-06T05:49:47.398225Z",
     "shell.execute_reply": "2021-07-06T05:49:47.399147Z"
    },
    "lines_to_next_cell": 1
   },
   "outputs": [],
   "source": [
    "# markdown print function\n",
    "def printmd(text):\n",
    "    display(Markdown(text))"
   ]
  },
  {
   "cell_type": "code",
   "execution_count": 3,
   "id": "cc5d31eb",
   "metadata": {
    "execution": {
     "iopub.execute_input": "2021-07-06T05:49:47.404521Z",
     "iopub.status.busy": "2021-07-06T05:49:47.403544Z",
     "iopub.status.idle": "2021-07-06T05:49:47.469016Z",
     "shell.execute_reply": "2021-07-06T05:49:47.468114Z"
    }
   },
   "outputs": [
    {
     "name": "stdout",
     "output_type": "stream",
     "text": [
      "        userid  version  sum_gamerounds  retention_1  retention_7\n",
      "0          116  gate_30               3        False        False\n",
      "1          337  gate_30              38         True        False\n",
      "2          377  gate_40             165         True        False\n",
      "3          483  gate_40               1        False        False\n",
      "4          488  gate_40             179         True         True\n",
      "...        ...      ...             ...          ...          ...\n",
      "90184  9999441  gate_40              97         True        False\n",
      "90185  9999479  gate_40              30        False        False\n",
      "90186  9999710  gate_30              28         True        False\n",
      "90187  9999768  gate_40              51         True        False\n",
      "90188  9999861  gate_40              16        False        False\n",
      "\n",
      "[90189 rows x 5 columns]\n"
     ]
    }
   ],
   "source": [
    "# loading data\n",
    "df = pd.read_csv('cookie_cats.csv')\n",
    "print(df)"
   ]
  },
  {
   "cell_type": "markdown",
   "id": "cb87ab95",
   "metadata": {
    "region_name": "md"
   },
   "source": [
    "Columns descriptions:\n",
    "  1. userid: integer, unique user identifier number\n",
    "  2. version: string, player group name; gate_30 is the control group\n",
    "  3. sum_gamerounds: integer, rounds played in week following install\n",
    "  4. retention_1: bool, games played one day after install\n",
    "  5. retention_7: bool, games played seven days after install"
   ]
  },
  {
   "cell_type": "code",
   "execution_count": 4,
   "id": "17ea1538",
   "metadata": {
    "execution": {
     "iopub.execute_input": "2021-07-06T05:49:47.479397Z",
     "iopub.status.busy": "2021-07-06T05:49:47.478136Z",
     "iopub.status.idle": "2021-07-06T05:49:47.491042Z",
     "shell.execute_reply": "2021-07-06T05:49:47.491975Z"
    }
   },
   "outputs": [
    {
     "name": "stdout",
     "output_type": "stream",
     "text": [
      "<class 'pandas.core.frame.DataFrame'>\n",
      "RangeIndex: 90189 entries, 0 to 90188\n",
      "Data columns (total 5 columns):\n",
      " #   Column          Non-Null Count  Dtype \n",
      "---  ------          --------------  ----- \n",
      " 0   userid          90189 non-null  int64 \n",
      " 1   version         90189 non-null  object\n",
      " 2   sum_gamerounds  90189 non-null  int64 \n",
      " 3   retention_1     90189 non-null  bool  \n",
      " 4   retention_7     90189 non-null  bool  \n",
      "dtypes: bool(2), int64(2), object(1)\n",
      "memory usage: 2.2+ MB\n",
      "None\n"
     ]
    }
   ],
   "source": [
    "# column info\n",
    "print(df.info())"
   ]
  },
  {
   "cell_type": "markdown",
   "id": "bc743e3b",
   "metadata": {
    "region_name": "md"
   },
   "source": [
    "90189 rows, each belonging to a unique user who installed the game during this test interval (one \n",
    "week). The dataset doesn't contain any null values, and all columns have reasonable data types."
   ]
  },
  {
   "cell_type": "code",
   "execution_count": 5,
   "id": "f9e9456b",
   "metadata": {
    "execution": {
     "iopub.execute_input": "2021-07-06T05:49:47.500723Z",
     "iopub.status.busy": "2021-07-06T05:49:47.499598Z",
     "iopub.status.idle": "2021-07-06T05:49:47.521979Z",
     "shell.execute_reply": "2021-07-06T05:49:47.522860Z"
    }
   },
   "outputs": [
    {
     "name": "stdout",
     "output_type": "stream",
     "text": [
      "           count       mean         std  min  25%   50%   75%      max\n",
      "version                                                               \n",
      "gate_30  44700.0  52.456264  256.716423  0.0  5.0  17.0  50.0  49854.0\n",
      "gate_40  45489.0  51.298776  103.294416  0.0  5.0  16.0  52.0   2640.0\n"
     ]
    }
   ],
   "source": [
    "# numerical stats\n",
    "print(df.groupby('version').sum_gamerounds.describe())"
   ]
  },
  {
   "cell_type": "markdown",
   "id": "96a8d0c9",
   "metadata": {
    "region_name": "md"
   },
   "source": [
    "Right away it is apparent that \"sum_gamerounds\" has at least one rather large outlier (and \n",
    "potentially others, though not quite as egregious); 75% of values lie between 0 and 51, yet the \n",
    "max value is 49854."
   ]
  },
  {
   "cell_type": "code",
   "execution_count": 6,
   "id": "d652b8e9",
   "metadata": {
    "execution": {
     "iopub.execute_input": "2021-07-06T05:49:47.584471Z",
     "iopub.status.busy": "2021-07-06T05:49:47.583289Z",
     "iopub.status.idle": "2021-07-06T05:49:47.904673Z",
     "shell.execute_reply": "2021-07-06T05:49:47.905618Z"
    }
   },
   "outputs": [
    {
     "data": {
      "image/png": "[encoded data removed]",
      "text/plain": [
       "<Figure size 432x1080 with 1 Axes>"
      ]
     },
     "metadata": {
      "needs_background": "light"
     },
     "output_type": "display_data"
    }
   ],
   "source": [
    "# visualizing outliers\n",
    "fig, ax = plt.subplots()\n",
    "fig.set_size_inches(6, 15)\n",
    "df.boxplot(column = ['sum_gamerounds'], by = ['version'], ax = ax)\n",
    "fig.suptitle('')\n",
    "ax.set_title('sum_gamerounds boxplot grouped by version')\n",
    "ax.set_xlabel('version')\n",
    "ax.set_ylabel('count')\n",
    "plt.show()"
   ]
  },
  {
   "cell_type": "markdown",
   "id": "37559623",
   "metadata": {
    "region_name": "md"
   },
   "source": [
    "Dropping rows with \"sum_gamerounds\" greater than 10000 would remove this outlier and bring these \n",
    "box and whisker plots more in line, though this isn't necessary yet. The below is mostly just for \n",
    "visualization purposes."
   ]
  },
  {
   "cell_type": "code",
   "execution_count": 7,
   "id": "b25472c6",
   "metadata": {
    "execution": {
     "iopub.execute_input": "2021-07-06T05:49:47.912452Z",
     "iopub.status.busy": "2021-07-06T05:49:47.911290Z",
     "iopub.status.idle": "2021-07-06T05:49:48.198385Z",
     "shell.execute_reply": "2021-07-06T05:49:48.199339Z"
    }
   },
   "outputs": [
    {
     "data": {
      "image/png": "[encoded data removed]",
      "text/plain": [
       "<Figure size 432x1080 with 1 Axes>"
      ]
     },
     "metadata": {
      "needs_background": "light"
     },
     "output_type": "display_data"
    },
    {
     "name": "stdout",
     "output_type": "stream",
     "text": [
      "           count       mean         std  min  25%   50%   75%     max\n",
      "version                                                              \n",
      "gate_30  44699.0  51.342111  102.057598  0.0  5.0  17.0  50.0  2961.0\n",
      "gate_40  45489.0  51.298776  103.294416  0.0  5.0  16.0  52.0  2640.0\n"
     ]
    }
   ],
   "source": [
    "# outlier removal\n",
    "df = df.query('sum_gamerounds < 10000')\n",
    "fig, ax = plt.subplots()\n",
    "fig.set_size_inches(6, 15)\n",
    "df.boxplot(column = ['sum_gamerounds'], by = ['version'], ax = ax)\n",
    "fig.suptitle('')\n",
    "ax.set_title('sum_gamerounds boxplot grouped by version')\n",
    "ax.set_xlabel('version')\n",
    "ax.set_ylabel('count')\n",
    "plt.show()\n",
    "print(df.groupby('version').sum_gamerounds.describe())"
   ]
  },
  {
   "cell_type": "markdown",
   "id": "7004c6f2",
   "metadata": {
    "region_name": "md"
   },
   "source": [
    "There are still quite a few outliers (per the more standard 1.5*IQR rule), we may return to \n",
    "further reduce outliers pending analysis. Again, this step won't see usefulness until the \n",
    "\"Categorical->Quantitative\" hypothesis test."
   ]
  },
  {
   "cell_type": "code",
   "execution_count": 8,
   "id": "f068a121",
   "metadata": {
    "execution": {
     "iopub.execute_input": "2021-07-06T05:49:48.206285Z",
     "iopub.status.busy": "2021-07-06T05:49:48.205164Z",
     "iopub.status.idle": "2021-07-06T05:49:48.224864Z",
     "shell.execute_reply": "2021-07-06T05:49:48.224030Z"
    }
   },
   "outputs": [
    {
     "name": "stdout",
     "output_type": "stream",
     "text": [
      "         version  retention_1  retention_7\n",
      "gate_40  45489.0          NaN          NaN\n",
      "gate_30  44699.0          NaN          NaN\n",
      "False        NaN      50035.0      73408.0\n",
      "True         NaN      40153.0      16780.0\n"
     ]
    }
   ],
   "source": [
    "# categorical stats\n",
    "print(df.iloc[:, [1, 3, 4]].apply(pd.Series.value_counts))"
   ]
  },
  {
   "cell_type": "markdown",
   "id": "e54a2538",
   "metadata": {
    "region_name": "md"
   },
   "source": [
    "The two groups \"gate_30\" and \"gate_40\" split the entire dataset pretty much down the middle, \n",
    "though the same cannot be said for the boolean values of the two retention columns. 55% of \n",
    "new players did not return to play on day one, while an even greater percentage (81%) did not \n",
    "return on day seven. At a cursory glance, long term retention would be the more significant task \n",
    "to try to tackle."
   ]
  },
  {
   "cell_type": "code",
   "execution_count": 9,
   "id": "1a1c91d3",
   "metadata": {
    "execution": {
     "iopub.execute_input": "2021-07-06T05:49:48.231779Z",
     "iopub.status.busy": "2021-07-06T05:49:48.230802Z",
     "iopub.status.idle": "2021-07-06T05:49:48.244035Z",
     "shell.execute_reply": "2021-07-06T05:49:48.243122Z"
    }
   },
   "outputs": [
    {
     "name": "stdout",
     "output_type": "stream",
     "text": [
      "         retention_1  retention_7\n",
      "version                          \n",
      "gate_30     0.448198     0.190183\n",
      "gate_40     0.442283     0.182000\n"
     ]
    }
   ],
   "source": [
    "# retention percentages\n",
    "print(df.groupby('version')[['retention_1', 'retention_7']].mean())"
   ]
  },
  {
   "cell_type": "markdown",
   "id": "5812cc8d",
   "metadata": {
    "region_name": "md"
   },
   "source": [
    "Day one and seven retention both look to average out to slightly higher values for \"gate_30\", \n",
    "approximate increases of .006 and .008 respectively, though keep in mind these numbers alone \n",
    "aren't enough to prove anything concretely. That said, the closeness of these between-group \n",
    "comparisons stresses that the impact from this A/B test is minimal."
   ]
  },
  {
   "cell_type": "code",
   "execution_count": 10,
   "id": "848366eb",
   "metadata": {
    "execution": {
     "iopub.execute_input": "2021-07-06T05:49:48.254659Z",
     "iopub.status.busy": "2021-07-06T05:49:48.253588Z",
     "iopub.status.idle": "2021-07-06T05:49:48.280560Z",
     "shell.execute_reply": "2021-07-06T05:49:48.281504Z"
    }
   },
   "outputs": [
    {
     "data": {
      "text/markdown": [
       "**Retention by boolean combination**"
      ],
      "text/plain": [
       "<IPython.core.display.Markdown object>"
      ]
     },
     "metadata": {},
     "output_type": "display_data"
    },
    {
     "name": "stdout",
     "output_type": "stream",
     "text": [
      "version  retention_1  retention_7\n",
      "gate_30  False        False          51.097340\n",
      "                      True            4.082865\n",
      "         True         False          29.884337\n",
      "                      True           14.935457\n",
      "gate_40  False        False          51.874079\n",
      "                      True            3.897646\n",
      "         True         False          29.925916\n",
      "                      True           14.302359\n",
      "Name: userid, dtype: float64 \n",
      "\n"
     ]
    },
    {
     "data": {
      "text/markdown": [
       "**Between group retention deltas**"
      ],
      "text/plain": [
       "<IPython.core.display.Markdown object>"
      ]
     },
     "metadata": {},
     "output_type": "display_data"
    },
    {
     "name": "stdout",
     "output_type": "stream",
     "text": [
      "     gate_30 -> 40 deltas\n",
      "F-F              0.776739\n",
      "F-T             -0.185220\n",
      "T-F              0.041579\n",
      "T-T             -0.633098\n"
     ]
    }
   ],
   "source": [
    "# retention breakdown\n",
    "retention_breakdown = df.groupby(['version', 'retention_1', 'retention_7']).userid.agg('count') \\\n",
    "    .groupby(level = 0).apply(lambda x: 100*x/float(x.sum()))\n",
    "printmd('**Retention by boolean combination**')\n",
    "print(retention_breakdown, '\\n')\n",
    "columns = ['gate_30 -> 40 deltas']\n",
    "index = ['F-F', 'F-T', 'T-F', 'T-T']\n",
    "retention_deltas = retention_breakdown[['gate_40']].values-retention_breakdown[['gate_30']].values\n",
    "printmd('**Between group retention deltas**')\n",
    "print(pd.DataFrame(retention_deltas, index = index, columns = columns))"
   ]
  },
  {
   "cell_type": "markdown",
   "id": "ed4feb4b",
   "metadata": {
    "region_name": "md"
   },
   "source": [
    "A quick description of the four boolean combinations:\n",
    "\n",
    "  1. F-F: no logins on days 1, 7; no retention\n",
    "  2. F-T: login only on day 7; long term retention\n",
    "  3. T-F: login only on day 1; short term retention\n",
    "  4. T-T: logins on days 1, 7; overall retention\n",
    "\n",
    "Depending on what type of retention we were seeking to improve (i.e. short, long term), \n",
    "our initial conclusion would be slightly different. Long term retention looks to generally have \n",
    "been negatively impacted in the \"gate_40\" group, while short term retention saw the opposite \n",
    "effect. Table 1 above displays percentages per boolean combo for each group, and table 2 the \n",
    "percentage delta going from \"gate_30\" to \"gate_40\". In plaintext english:\n",
    "\n",
    "  1. +.78% failure to retain (F-F)\n",
    "  2. -.19% long term retention (F-T)\n",
    "  3. +.04% short term retention (T-F)\n",
    "  4. -.63% overall retention (T-T)"
   ]
  },
  {
   "cell_type": "markdown",
   "id": "17a1585b",
   "metadata": {
    "region_name": "md"
   },
   "source": [
    "### Hypothesis: Categorical->Categorical"
   ]
  },
  {
   "cell_type": "markdown",
   "id": "eb00fbfe",
   "metadata": {
    "region_name": "md"
   },
   "source": [
    "Let:\n",
    "\n",
    "  - H<sub>0</sub>: version does not impact retention (independent)\n",
    "  - H<sub>a</sub>: version does impact retention (dependent)\n",
    "\n",
    "This initial test will be looking at whether we can conclude, beyond a reasonable doubt, that \n",
    "there is a correlation between version and retention. Since our \"version\", \"retention_1\", and \n",
    "\"retention_7\" columns are categorical variables, a non-parametric test like chi2 fits our \n",
    "requirements best. A standard significance value of α = .05 will be used."
   ]
  },
  {
   "cell_type": "code",
   "execution_count": 11,
   "id": "e60cc314",
   "metadata": {
    "execution": {
     "iopub.execute_input": "2021-07-06T05:49:48.291430Z",
     "iopub.status.busy": "2021-07-06T05:49:48.290304Z",
     "iopub.status.idle": "2021-07-06T05:49:48.303333Z",
     "shell.execute_reply": "2021-07-06T05:49:48.304168Z"
    }
   },
   "outputs": [
    {
     "data": {
      "text/markdown": [
       "**Results**"
      ],
      "text/plain": [
       "<IPython.core.display.Markdown object>"
      ]
     },
     "metadata": {},
     "output_type": "display_data"
    },
    {
     "name": "stdout",
     "output_type": "stream",
     "text": [
      "Chi Statistic: 10.776026093423667\n",
      "P-value: 0.013000737455766848\n",
      "Degrees of Freedom: 3\n"
     ]
    }
   ],
   "source": [
    "# retention counts\n",
    "retention_counts = df.groupby(['version', 'retention_1', 'retention_7']).userid.count()\n",
    "a = retention_counts['gate_30'].values\n",
    "b = retention_counts['gate_40'].values\n",
    "chi2, p, dof, ex = stats.chi2_contingency([a, b], correction = False)\n",
    "printmd('**Results**')\n",
    "print('Chi Statistic: {}\\nP-value: {}\\nDegrees of Freedom: {}'.format(chi2, p, dof))"
   ]
  },
  {
   "cell_type": "markdown",
   "id": "06128d09",
   "metadata": {
    "region_name": "md"
   },
   "source": [
    "Our p-value is indeed smaller than our significance value, so our evidence points to a rejection \n",
    "of the null hypothesis; version and retention have a dependent relationship."
   ]
  },
  {
   "cell_type": "markdown",
   "id": "567fe4ff",
   "metadata": {
    "region_name": "md"
   },
   "source": [
    "### Hypothesis: Categorical->Quantitative"
   ]
  },
  {
   "cell_type": "markdown",
   "id": "fd0a96bb",
   "metadata": {
    "region_name": "md"
   },
   "source": [
    "Switching gears, we will next be looking at how the same categorical \n",
    "\"version\" independent variable impacts the discrete, quantitative \n",
    "\"sum_gamerounds\" dependent variable. I won't spend too much time on why I am \n",
    "going straight for a Wilcoxon Rank-Sum test, but the general gist is:\n",
    "\n",
    "  1. dependent variable is not normally distributed\n",
    "  2. power transform normalization unsuccessful\n",
    "\n",
    "Whereas above we originally only removed the top outlier from our dataset (for boxplot \n",
    "visualization), this time around we are constraining our working data to the 1.5*IQR range per \n",
    "group.\n",
    "\n",
    "Finally, let:\n",
    "\n",
    "  - H<sub>0</sub>: the two samples come from the same population\n",
    "  - H<sub>a</sub>: the two samples derive from different populations"
   ]
  },
  {
   "cell_type": "code",
   "execution_count": 12,
   "id": "358f3450",
   "metadata": {
    "execution": {
     "iopub.execute_input": "2021-07-06T05:49:48.310617Z",
     "iopub.status.busy": "2021-07-06T05:49:48.309635Z",
     "iopub.status.idle": "2021-07-06T05:49:48.401815Z",
     "shell.execute_reply": "2021-07-06T05:49:48.402695Z"
    }
   },
   "outputs": [
    {
     "name": "stdout",
     "output_type": "stream",
     "text": [
      "Old shape: (90189, 5)\n",
      "New shape: (79964, 5)\n",
      "Rows dropped: 10225\n"
     ]
    }
   ],
   "source": [
    "# removing outliers\n",
    "df = pd.read_csv('cookie_cats.csv')\n",
    "old_shape = df.shape\n",
    "for group in ['gate_30', 'gate_40']:\n",
    "    q25, q75 = np.percentile(df.query('version == @group').sum_gamerounds, [25, 75], \n",
    "        interpolation = 'midpoint')\n",
    "    iqr = q75 - q25\n",
    "    q_hi = q75 + 1.5*iqr\n",
    "    q_lo = q25 - 1.5*iqr\n",
    "    df = df.query('(version != @group) or (version == @group and @q_lo < sum_gamerounds < @q_hi)')\n",
    "df.reset_index(inplace = True, drop = True)\n",
    "print(f'Old shape: {old_shape}\\nNew shape: {df.shape}\\nRows dropped: {old_shape[0] - df.shape[0]}')"
   ]
  },
  {
   "cell_type": "code",
   "execution_count": 13,
   "id": "83d7f5e3",
   "metadata": {
    "execution": {
     "iopub.execute_input": "2021-07-06T05:49:48.409531Z",
     "iopub.status.busy": "2021-07-06T05:49:48.408478Z",
     "iopub.status.idle": "2021-07-06T05:49:49.179270Z",
     "shell.execute_reply": "2021-07-06T05:49:49.180243Z"
    }
   },
   "outputs": [
    {
     "data": {
      "image/png": "[encoded data removed]",
      "text/plain": [
       "<Figure size 864x1080 with 2 Axes>"
      ]
     },
     "metadata": {
      "needs_background": "light"
     },
     "output_type": "display_data"
    }
   ],
   "source": [
    "# distribution histogram\n",
    "bins = df.sum_gamerounds.nunique()\n",
    "fig, (ax1, ax2) = plt.subplots(1, 2)\n",
    "fig.set_size_inches(12, 15)\n",
    "df[df.version == 'gate_30'].sum_gamerounds.hist(bins = bins, ax = ax1)\n",
    "df[df.version == 'gate_40'].sum_gamerounds.hist(bins = bins, ax = ax2)\n",
    "fig.suptitle('sum_gamerounds histograms, sans outliers')\n",
    "ax1.set_title('gate_30')\n",
    "ax1.set_xlabel('bin')\n",
    "ax1.set_ylabel('count')\n",
    "ax2.set_title('gate_40')\n",
    "ax2.set_xlabel('bin')\n",
    "ax2.set_ylabel('count')\n",
    "plt.show()"
   ]
  },
  {
   "cell_type": "code",
   "execution_count": 14,
   "id": "fbadb40b",
   "metadata": {
    "execution": {
     "iopub.execute_input": "2021-07-06T05:49:49.191624Z",
     "iopub.status.busy": "2021-07-06T05:49:49.190491Z",
     "iopub.status.idle": "2021-07-06T05:49:50.626282Z",
     "shell.execute_reply": "2021-07-06T05:49:50.627229Z"
    }
   },
   "outputs": [
    {
     "data": {
      "image/png": "[encoded data removed]",
      "text/plain": [
       "<Figure size 864x1080 with 2 Axes>"
      ]
     },
     "metadata": {
      "needs_background": "light"
     },
     "output_type": "display_data"
    }
   ],
   "source": [
    "# power transform\n",
    "df.sort_values(by = 'version', inplace = True)\n",
    "temp = [stats.yeojohnson(df[df.version == g].sum_gamerounds)[0] for g in ['gate_30', 'gate_40']]\n",
    "temp = np.atleast_2d(np.concatenate([*temp])).T\n",
    "df_norm = pd.concat([df['version'], pd.DataFrame(temp, columns = ['sum_gamerounds'])], axis = 1)\n",
    "bins = df_norm.sum_gamerounds.nunique()\n",
    "fig, (ax1, ax2) = plt.subplots(1, 2)\n",
    "fig.set_size_inches(12, 15)\n",
    "df_norm[df_norm.version == 'gate_30'].sum_gamerounds.hist(bins = bins, ax = ax1)\n",
    "df_norm[df_norm.version == 'gate_40'].sum_gamerounds.hist(bins = bins, ax = ax2)\n",
    "fig.suptitle('transformed sum_gamerounds histograms, sans outliers')\n",
    "ax1.set_title('gate_30')\n",
    "ax1.set_xlabel('bin')\n",
    "ax1.set_ylabel('count')\n",
    "ax2.set_title('gate_40')\n",
    "ax2.set_xlabel('bin')\n",
    "ax2.set_ylabel('count')\n",
    "plt.show()"
   ]
  },
  {
   "cell_type": "markdown",
   "id": "fd159900",
   "metadata": {
    "region_name": "md"
   },
   "source": [
    "The post-transform histograms shown are no closer to a normal distribution than the \n",
    "pre-transform figures, hence the need for a non-parametric test (no assumptions on distribution \n",
    "characteristics). The same level / value of significance from above, α = .05, will be used below."
   ]
  },
  {
   "cell_type": "code",
   "execution_count": 15,
   "id": "a9e1161c",
   "metadata": {
    "execution": {
     "iopub.execute_input": "2021-07-06T05:49:50.634383Z",
     "iopub.status.busy": "2021-07-06T05:49:50.633248Z",
     "iopub.status.idle": "2021-07-06T05:49:50.669638Z",
     "shell.execute_reply": "2021-07-06T05:49:50.670421Z"
    }
   },
   "outputs": [
    {
     "name": "stdout",
     "output_type": "stream",
     "text": [
      "Test statistic: 0.5865496527240398\n",
      "P-value: 0.5575062049083659\n"
     ]
    }
   ],
   "source": [
    "# wilcoxon rank sums\n",
    "df.sort_index(inplace = True)\n",
    "groups = ['gate_30', 'gate_40']\n",
    "samples = [df[df.version == g].sum_gamerounds for g in groups]\n",
    "output = stats.ranksums(*samples)\n",
    "print('Test statistic: {}\\nP-value: {}'.format(*output))"
   ]
  },
  {
   "cell_type": "markdown",
   "id": "39be4116",
   "metadata": {
    "region_name": "md"
   },
   "source": [
    "In contrast to the prior hypothesis test, this particular p-value fails to reject the null \n",
    "hypothesis. Stated another way, we don't have enough evidence to suggest the two \"sum_gamerounds\" \n",
    "distributions come from different populations."
   ]
  },
  {
   "cell_type": "markdown",
   "id": "3f943249",
   "metadata": {
    "region_name": "md"
   },
   "source": [
    "### Concluding Thoughts"
   ]
  },
  {
   "cell_type": "markdown",
   "id": "85761f37",
   "metadata": {
    "region_name": "md"
   },
   "source": [
    "This notebook is looking at two different aspects of this dataset, but is ultimately using the \n",
    "same methodology to evaluate independent-dependent variable relationships. In both instances, A/B \n",
    "testing is observing the change in outcome based on change in input. The first round is testing a \n",
    "categorical to categorical (user group to retention type) relationship, while the second \n",
    "categorical to quantitative (user group to interaction count). In both scenarios non-parametric \n",
    "tests are utilized, but for slightly different reasons: chi2 is one of few tests that deals \n",
    "well with categorical input and output, and Wilcoxon Rank Sums (Mann-Whitney U) categorical \n",
    "input and non-normal quantitative output.\n",
    "\n",
    "Hypothesis test 1 concludes that there is enough evidence to reject the null hypothesis, or that \n",
    "there is an association between the two categorical variables under analysis. Later inspection \n",
    "highlights a loss in overall retention (-.78%) when comparing the test and control groups. \n",
    "Hypothesis test 2, on the other hand, accepts the null hypothesis that the two sample \n",
    "distributions are equal. This suggests that the varying of users and groups has no statistically \n",
    "significant impact on games played in a week.\n",
    "\n",
    "As for the business implications of this A/B test, absent of any supplemental data covering user \n",
    "purchasing patterns and advertisement viewership, the conclusion would be that the newly tested \n",
    "progression system has a net negative impact on overall user retention and therefore should not \n",
    "see a wider rollout."
   ]
  }
 ],
 "metadata": {
  "jupytext": {
   "cell_metadata_filter": "region_name,-all",
   "encoding": "# -*- coding: utf-8 -*-",
   "formats": "ipynb,py:percent"
  },
  "kernelspec": {
   "display_name": "Python 3 (ipykernel)",
   "language": "python",
   "name": "python3"
  },
  "language_info": {
   "codemirror_mode": {
    "name": "ipython",
    "version": 3
   },
   "file_extension": ".py",
   "mimetype": "text/x-python",
   "name": "python",
   "nbconvert_exporter": "python",
   "pygments_lexer": "ipython3",
   "version": "3.8.10"
  }
 },
 "nbformat": 4,
 "nbformat_minor": 5
}
