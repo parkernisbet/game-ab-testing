{
 "cells": [
  {
   "cell_type": "markdown",
   "id": "f52736b4",
   "metadata": {
    "region_name": "md"
   },
   "source": [
    "# <span style=\"color:blue\">Game AB Testing</span>"
   ]
  },
  {
   "cell_type": "markdown",
   "id": "f6684f5c",
   "metadata": {
    "region_name": "md"
   },
   "source": [
    "### <span style=\"color:blue\">Project Overview</span>\n",
    "This dataset was sourced from [Kaggle](https://www.kaggle.com/yufengsui/mobile-games-ab-testing) \n",
    "and contains player data from a popular mobile puzzle game. More details about the game can be \n",
    "found on the developer's [website](https://tactilegames.com/cookie-cats/).\n",
    "\n",
    "In short, this project seeks to use A/B testing to explore the impact of a particular game \n",
    "mechanic on player retention. A random sampling of the overall playerbase will be pulled in to \n",
    "this case study: half serving as a test group to measure the outcome of a different progression \n",
    "system, and half as a control group to contrast with the above. The dataset will log \"user \n",
    "interaction\" as cumulative rounds played, and \"frequency of play\" as logins after pre-defined \n",
    "time intervals. Later statistical analysis of this data should yield a determination on the merit \n",
    "of this proposed game change."
   ]
  },
  {
   "cell_type": "markdown",
   "id": "4833401c",
   "metadata": {
    "region_name": "md"
   },
   "source": [
    "### <span style=\"color:blue\">Data Exploration</span>"
   ]
  },
  {
   "cell_type": "code",
   "execution_count": 1,
   "id": "6cd7f41a",
   "metadata": {
    "execution": {
     "iopub.execute_input": "2021-07-01T04:11:14.133257Z",
     "iopub.status.busy": "2021-07-01T04:11:14.132394Z",
     "iopub.status.idle": "2021-07-01T04:11:14.863962Z",
     "shell.execute_reply": "2021-07-01T04:11:14.864677Z"
    },
    "lines_to_next_cell": 1
   },
   "outputs": [],
   "source": [
    "# global imports\n",
    "import matplotlib.pyplot as plt\n",
    "import pandas as pd\n",
    "from IPython.display import Markdown, display\n",
    "from scipy import stats"
   ]
  },
  {
   "cell_type": "code",
   "execution_count": 2,
   "id": "0120da91",
   "metadata": {
    "execution": {
     "iopub.execute_input": "2021-07-01T04:11:14.870406Z",
     "iopub.status.busy": "2021-07-01T04:11:14.869410Z",
     "iopub.status.idle": "2021-07-01T04:11:14.872988Z",
     "shell.execute_reply": "2021-07-01T04:11:14.872150Z"
    },
    "lines_to_next_cell": 1
   },
   "outputs": [],
   "source": [
    "# markdown print function\n",
    "def printmd(text):\n",
    "    display(Markdown(text))"
   ]
  },
  {
   "cell_type": "code",
   "execution_count": 3,
   "id": "cc5d31eb",
   "metadata": {
    "execution": {
     "iopub.execute_input": "2021-07-01T04:11:14.880288Z",
     "iopub.status.busy": "2021-07-01T04:11:14.879307Z",
     "iopub.status.idle": "2021-07-01T04:11:14.959268Z",
     "shell.execute_reply": "2021-07-01T04:11:14.960108Z"
    }
   },
   "outputs": [
    {
     "name": "stdout",
     "output_type": "stream",
     "text": [
      "        userid  version  sum_gamerounds  retention_1  retention_7\n",
      "0          116  gate_30               3        False        False\n",
      "1          337  gate_30              38         True        False\n",
      "2          377  gate_40             165         True        False\n",
      "3          483  gate_40               1        False        False\n",
      "4          488  gate_40             179         True         True\n",
      "...        ...      ...             ...          ...          ...\n",
      "90184  9999441  gate_40              97         True        False\n",
      "90185  9999479  gate_40              30        False        False\n",
      "90186  9999710  gate_30              28         True        False\n",
      "90187  9999768  gate_40              51         True        False\n",
      "90188  9999861  gate_40              16        False        False\n",
      "\n",
      "[90189 rows x 5 columns]\n"
     ]
    }
   ],
   "source": [
    "# loading data\n",
    "df = pd.read_csv('cookie_cats.csv')\n",
    "print(df)"
   ]
  },
  {
   "cell_type": "markdown",
   "id": "cb87ab95",
   "metadata": {
    "region_name": "md"
   },
   "source": [
    "Columns descriptions:\n",
    "  1. userid: integer, unique user identifier number\n",
    "  2. version: string, player group name; gate_30 is the control group\n",
    "  3. sum_gamerounds: integer, rounds played in week following install\n",
    "  4. retention_1: bool, games played one day after install\n",
    "  5. retention_7: bool, games played seven days after install"
   ]
  },
  {
   "cell_type": "code",
   "execution_count": 4,
   "id": "17ea1538",
   "metadata": {
    "execution": {
     "iopub.execute_input": "2021-07-01T04:11:14.973169Z",
     "iopub.status.busy": "2021-07-01T04:11:14.972069Z",
     "iopub.status.idle": "2021-07-01T04:11:14.986757Z",
     "shell.execute_reply": "2021-07-01T04:11:14.987660Z"
    }
   },
   "outputs": [
    {
     "name": "stdout",
     "output_type": "stream",
     "text": [
      "<class 'pandas.core.frame.DataFrame'>\n",
      "RangeIndex: 90189 entries, 0 to 90188\n",
      "Data columns (total 5 columns):\n",
      " #   Column          Non-Null Count  Dtype \n",
      "---  ------          --------------  ----- \n",
      " 0   userid          90189 non-null  int64 \n",
      " 1   version         90189 non-null  object\n",
      " 2   sum_gamerounds  90189 non-null  int64 \n",
      " 3   retention_1     90189 non-null  bool  \n",
      " 4   retention_7     90189 non-null  bool  \n",
      "dtypes: bool(2), int64(2), object(1)\n",
      "memory usage: 2.2+ MB\n",
      "None\n"
     ]
    }
   ],
   "source": [
    "# column info\n",
    "print(df.info())"
   ]
  },
  {
   "cell_type": "markdown",
   "id": "bc743e3b",
   "metadata": {
    "region_name": "md"
   },
   "source": [
    "90189 rows, each belonging to a unique user who installed the game during this test interval (one \n",
    "week). The dataset doesn't contain any null values, and all columns have reasonable data types."
   ]
  },
  {
   "cell_type": "code",
   "execution_count": 5,
   "id": "f9e9456b",
   "metadata": {
    "execution": {
     "iopub.execute_input": "2021-07-01T04:11:14.998877Z",
     "iopub.status.busy": "2021-07-01T04:11:14.997725Z",
     "iopub.status.idle": "2021-07-01T04:11:15.027885Z",
     "shell.execute_reply": "2021-07-01T04:11:15.026911Z"
    }
   },
   "outputs": [
    {
     "name": "stdout",
     "output_type": "stream",
     "text": [
      "           count       mean         std  min  25%   50%   75%      max\n",
      "version                                                               \n",
      "gate_30  44700.0  52.456264  256.716423  0.0  5.0  17.0  50.0  49854.0\n",
      "gate_40  45489.0  51.298776  103.294416  0.0  5.0  16.0  52.0   2640.0\n"
     ]
    }
   ],
   "source": [
    "# numerical stats\n",
    "print(df.groupby('version').sum_gamerounds.describe())"
   ]
  },
  {
   "cell_type": "markdown",
   "id": "96a8d0c9",
   "metadata": {
    "region_name": "md"
   },
   "source": [
    "Right away it is apparent that \"sum_gamerounds\" has at least one rather large outlier (and \n",
    "potentially others, though not quite as egregious); 75% of values lie between 0 and 51, yet the \n",
    "max value is 49854."
   ]
  },
  {
   "cell_type": "code",
   "execution_count": 6,
   "id": "d652b8e9",
   "metadata": {
    "execution": {
     "iopub.execute_input": "2021-07-01T04:11:15.107390Z",
     "iopub.status.busy": "2021-07-01T04:11:15.106214Z",
     "iopub.status.idle": "2021-07-01T04:11:15.418781Z",
     "shell.execute_reply": "2021-07-01T04:11:15.419745Z"
    }
   },
   "outputs": [
    {
     "data": {
      "text/plain": [
       "<AxesSubplot:title={'center':'sum_gamerounds'}, xlabel='[version]'>"
      ]
     },
     "execution_count": 6,
     "metadata": {},
     "output_type": "execute_result"
    },
    {
     "data": {
      "image/png": "[encoded data removed]",
      "text/plain": [
       "<Figure size 432x1080 with 1 Axes>"
      ]
     },
     "metadata": {
      "needs_background": "light"
     },
     "output_type": "display_data"
    }
   ],
   "source": [
    "# visualizing outliers\n",
    "fig, ax = plt.subplots()\n",
    "fig.set_size_inches(6, 15)\n",
    "df.boxplot(column = ['sum_gamerounds'], by = ['version'], ax = ax)"
   ]
  },
  {
   "cell_type": "markdown",
   "id": "37559623",
   "metadata": {
    "region_name": "md"
   },
   "source": [
    "Dropping rows with \"sum_gamerounds\" greater than 10000 should remove this outlier and bring these \n",
    "box and whisker plots more in line."
   ]
  },
  {
   "cell_type": "code",
   "execution_count": 7,
   "id": "b25472c6",
   "metadata": {
    "execution": {
     "iopub.execute_input": "2021-07-01T04:11:15.426200Z",
     "iopub.status.busy": "2021-07-01T04:11:15.425016Z",
     "iopub.status.idle": "2021-07-01T04:11:15.705244Z",
     "shell.execute_reply": "2021-07-01T04:11:15.706206Z"
    }
   },
   "outputs": [
    {
     "data": {
      "image/png": "[encoded data removed]",
      "text/plain": [
       "<Figure size 432x1080 with 1 Axes>"
      ]
     },
     "metadata": {
      "needs_background": "light"
     },
     "output_type": "display_data"
    },
    {
     "name": "stdout",
     "output_type": "stream",
     "text": [
      "           count       mean         std  min  25%   50%   75%     max\n",
      "version                                                              \n",
      "gate_30  44699.0  51.342111  102.057598  0.0  5.0  17.0  50.0  2961.0\n",
      "gate_40  45489.0  51.298776  103.294416  0.0  5.0  16.0  52.0  2640.0\n"
     ]
    }
   ],
   "source": [
    "# outlier removal\n",
    "df = df.query('sum_gamerounds < 10000')\n",
    "fig, ax = plt.subplots()\n",
    "fig.set_size_inches(6, 15)\n",
    "df.boxplot(column = ['sum_gamerounds'], by = ['version'], ax = ax)\n",
    "plt.show()\n",
    "print(df.groupby('version').sum_gamerounds.describe())"
   ]
  },
  {
   "cell_type": "markdown",
   "id": "7004c6f2",
   "metadata": {
    "region_name": "md"
   },
   "source": [
    "There are still quite a few outliers (per the more standard 1.5*IQR rule), we may return to \n",
    "further reduce outliers pending analysis."
   ]
  },
  {
   "cell_type": "code",
   "execution_count": 8,
   "id": "f068a121",
   "metadata": {
    "execution": {
     "iopub.execute_input": "2021-07-01T04:11:15.712074Z",
     "iopub.status.busy": "2021-07-01T04:11:15.710833Z",
     "iopub.status.idle": "2021-07-01T04:11:15.730478Z",
     "shell.execute_reply": "2021-07-01T04:11:15.729484Z"
    }
   },
   "outputs": [
    {
     "name": "stdout",
     "output_type": "stream",
     "text": [
      "         version  retention_1  retention_7\n",
      "gate_40  45489.0          NaN          NaN\n",
      "gate_30  44699.0          NaN          NaN\n",
      "False        NaN      50035.0      73408.0\n",
      "True         NaN      40153.0      16780.0\n"
     ]
    }
   ],
   "source": [
    "# categorical stats\n",
    "print(df.iloc[:, [1, 3, 4]].apply(pd.Series.value_counts))"
   ]
  },
  {
   "cell_type": "markdown",
   "id": "e54a2538",
   "metadata": {
    "region_name": "md"
   },
   "source": [
    "The two groups \"gate_30\" and \"gate_40\" split the entire dataset pretty much down the middle, \n",
    "though the same cannot be said for the boolean values of the two retention columns. 55% of \n",
    "new players did not return to play on day one, while an even greater percentage (81%) did not \n",
    "return on day seven. At a cursory glance, long term retention would be the more significant task \n",
    "to try to tackle."
   ]
  },
  {
   "cell_type": "code",
   "execution_count": 9,
   "id": "1a1c91d3",
   "metadata": {
    "execution": {
     "iopub.execute_input": "2021-07-01T04:11:15.741114Z",
     "iopub.status.busy": "2021-07-01T04:11:15.739944Z",
     "iopub.status.idle": "2021-07-01T04:11:15.749172Z",
     "shell.execute_reply": "2021-07-01T04:11:15.748232Z"
    }
   },
   "outputs": [
    {
     "name": "stdout",
     "output_type": "stream",
     "text": [
      "         retention_1  retention_7\n",
      "version                          \n",
      "gate_30     0.448198     0.190183\n",
      "gate_40     0.442283     0.182000\n"
     ]
    }
   ],
   "source": [
    "# retention percentages\n",
    "print(df.groupby('version')[['retention_1', 'retention_7']].mean())"
   ]
  },
  {
   "cell_type": "markdown",
   "id": "5812cc8d",
   "metadata": {
    "region_name": "md"
   },
   "source": [
    "Day one and seven retention both look to average out to slightly higher values for \"gate_30\", \n",
    "approximately .006 and .008 respectively, though keep in mind these numbers alone aren't enough \n",
    "to prove anything. That said, the closeness of these between-group comparisons stresses that the \n",
    "impact from this A/B test is minimal."
   ]
  },
  {
   "cell_type": "code",
   "execution_count": 10,
   "id": "848366eb",
   "metadata": {
    "execution": {
     "iopub.execute_input": "2021-07-01T04:11:15.759724Z",
     "iopub.status.busy": "2021-07-01T04:11:15.758638Z",
     "iopub.status.idle": "2021-07-01T04:11:15.784954Z",
     "shell.execute_reply": "2021-07-01T04:11:15.785917Z"
    }
   },
   "outputs": [
    {
     "data": {
      "text/markdown": [
       "**Retention by boolean combination**"
      ],
      "text/plain": [
       "<IPython.core.display.Markdown object>"
      ]
     },
     "metadata": {},
     "output_type": "display_data"
    },
    {
     "name": "stdout",
     "output_type": "stream",
     "text": [
      "version  retention_1  retention_7\n",
      "gate_30  False        False          51.097340\n",
      "                      True            4.082865\n",
      "         True         False          29.884337\n",
      "                      True           14.935457\n",
      "gate_40  False        False          51.874079\n",
      "                      True            3.897646\n",
      "         True         False          29.925916\n",
      "                      True           14.302359\n",
      "Name: userid, dtype: float64 \n",
      "\n"
     ]
    },
    {
     "data": {
      "text/markdown": [
       "**Between group retention deltas**"
      ],
      "text/plain": [
       "<IPython.core.display.Markdown object>"
      ]
     },
     "metadata": {},
     "output_type": "display_data"
    },
    {
     "name": "stdout",
     "output_type": "stream",
     "text": [
      "     gate_30 -> 40 deltas\n",
      "F-F              0.776739\n",
      "F-T             -0.185220\n",
      "T-F              0.041579\n",
      "T-T             -0.633098\n"
     ]
    }
   ],
   "source": [
    "# retention breakdown\n",
    "retention_breakdown = df.groupby(['version', 'retention_1', 'retention_7']).userid.agg('count') \\\n",
    "    .groupby(level = 0).apply(lambda x: 100*x/float(x.sum()))\n",
    "printmd('**Retention by boolean combination**')\n",
    "print(retention_breakdown, '\\n')\n",
    "columns = ['gate_30 -> 40 deltas']\n",
    "index = ['F-F', 'F-T', 'T-F', 'T-T']\n",
    "retention_deltas = retention_breakdown[['gate_40']].values-retention_breakdown[['gate_30']].values\n",
    "printmd('**Between group retention deltas**')\n",
    "print(pd.DataFrame(retention_deltas, index = index, columns = columns))"
   ]
  },
  {
   "cell_type": "markdown",
   "id": "ed4feb4b",
   "metadata": {
    "region_name": "md"
   },
   "source": [
    "A quick description of the four boolean combinations:\n",
    "\n",
    "  1. F-F: no logins on days 1, 7; no retention\n",
    "  2. F-T: login only on day 7; long term retention\n",
    "  3. T-F: login only on day 1; short term retention\n",
    "  4. T-T: logins on days 1, 7; overall retention\n",
    "\n",
    "Depending on what type of retention we were seeking to improve (i.e. short, long term), \n",
    "our initial conclusion would be slightly different. Long term retention looks to generally have \n",
    "been negatively impacted in the \"gate_40\" group, while short term retention saw the opposite \n",
    "effect. Table 1 above displays percentages per boolean combo for each group, and table 2 the \n",
    "percentage delta going from \"gate_30\" to \"gate_40\". In plaintext english:\n",
    "\n",
    "  1. +.78% failure to retain (F-F)\n",
    "  2. -.19% long term retention (F-T)\n",
    "  3. +.04 short term retention (T-F)\n",
    "  4. -.63 overall retention (T-T)"
   ]
  },
  {
   "cell_type": "markdown",
   "id": "17a1585b",
   "metadata": {
    "region_name": "md"
   },
   "source": [
    "### <span style=\"color:blue\">Hypotheses: Independence</span>"
   ]
  },
  {
   "cell_type": "markdown",
   "id": "eb00fbfe",
   "metadata": {
    "region_name": "md"
   },
   "source": [
    "Let:\n",
    "\n",
    "  - H<sub>0</sub>: version does not impact retention (independent)\n",
    "  - H<sub>a</sub>: version does impact retention (dependent)\n",
    "\n",
    "This initial test will be looking at whether we can conclude, beyond a reasonable doubt, that \n",
    "there is a correlation between version and retention. Since our \"version\", \"retention_1\", and \n",
    "\"retention_7\" columns are categorical variables, a non-parametric test like chi2 seems like a \n",
    "good fit. A standard significance value of α = .05 will be used."
   ]
  },
  {
   "cell_type": "code",
   "execution_count": 11,
   "id": "e60cc314",
   "metadata": {
    "execution": {
     "iopub.execute_input": "2021-07-01T04:11:15.797289Z",
     "iopub.status.busy": "2021-07-01T04:11:15.796159Z",
     "iopub.status.idle": "2021-07-01T04:11:15.812708Z",
     "shell.execute_reply": "2021-07-01T04:11:15.813604Z"
    }
   },
   "outputs": [
    {
     "data": {
      "text/markdown": [
       "**Results**"
      ],
      "text/plain": [
       "<IPython.core.display.Markdown object>"
      ]
     },
     "metadata": {},
     "output_type": "display_data"
    },
    {
     "name": "stdout",
     "output_type": "stream",
     "text": [
      "Chi Statistic: 10.776026093423667\n",
      "P-value: 0.013000737455766848\n",
      "Degrees of Freedom: 3\n"
     ]
    }
   ],
   "source": [
    "# retention counts\n",
    "retention_counts = df.groupby(['version', 'retention_1', 'retention_7']).userid.count()\n",
    "a = retention_counts['gate_30'].values\n",
    "b = retention_counts['gate_40'].values\n",
    "chi2, p, dof, ex = stats.chi2_contingency([a, b], correction = False)\n",
    "printmd('**Results**')\n",
    "print('Chi Statistic: {}\\nP-value: {}\\nDegrees of Freedom: {}'.format(chi2, p, dof))"
   ]
  },
  {
   "cell_type": "markdown",
   "id": "06128d09",
   "metadata": {
    "region_name": "md"
   },
   "source": [
    "Our p-value is indeed smaller than our significance value, so the evidence points to a rejection \n",
    "of the null hypothesis; version and retention have a dependent relationship."
   ]
  }
 ],
 "metadata": {
  "jupytext": {
   "cell_metadata_filter": "region_name,-all",
   "formats": "ipynb,py:percent"
  },
  "kernelspec": {
   "display_name": "Python 3",
   "language": "python",
   "name": "python3"
  },
  "language_info": {
   "codemirror_mode": {
    "name": "ipython",
    "version": 3
   },
   "file_extension": ".py",
   "mimetype": "text/x-python",
   "name": "python",
   "nbconvert_exporter": "python",
   "pygments_lexer": "ipython3",
   "version": "3.8.10"
  }
 },
 "nbformat": 4,
 "nbformat_minor": 5
}
